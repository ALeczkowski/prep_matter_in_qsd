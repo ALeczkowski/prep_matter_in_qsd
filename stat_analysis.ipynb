{
 "cells": [
  {
   "cell_type": "code",
   "execution_count": 1,
   "id": "437653c6-c8bf-4d28-8d28-e6c1a1c38f83",
   "metadata": {},
   "outputs": [
    {
     "name": "stderr",
     "output_type": "stream",
     "text": [
      "Ładowanie wymaganego pakietu: mvtnorm\n",
      "\n",
      "Ładowanie wymaganego pakietu: survival\n",
      "\n",
      "Ładowanie wymaganego pakietu: TH.data\n",
      "\n",
      "Ładowanie wymaganego pakietu: MASS\n",
      "\n",
      "\n",
      "Dołączanie pakietu: 'TH.data'\n",
      "\n",
      "\n",
      "Następujący obiekt został zakryty z 'package:MASS':\n",
      "\n",
      "    geyser\n",
      "\n",
      "\n"
     ]
    }
   ],
   "source": [
    "library(\"readxl\")\n",
    "library(multcomp)"
   ]
  },
  {
   "cell_type": "code",
   "execution_count": 2,
   "id": "8293a37e-840d-4f4e-b14a-d9f5d56da8b5",
   "metadata": {},
   "outputs": [
    {
     "name": "stderr",
     "output_type": "stream",
     "text": [
      "\u001b[1m\u001b[22mNew names:\n",
      "\u001b[36m•\u001b[39m `` -> `...1`\n"
     ]
    }
   ],
   "source": [
    "# Read the data\n",
    "data <- read_excel(\"Results/results_to_stat_analysis.xlsx\")"
   ]
  },
  {
   "cell_type": "code",
   "execution_count": 3,
   "id": "113d33dd-7ab1-4b6f-8d99-446472b14097",
   "metadata": {},
   "outputs": [
    {
     "data": {
      "text/html": [
       "<table class=\"dataframe\">\n",
       "<caption>A tibble: 6 × 5</caption>\n",
       "<thead>\n",
       "\t<tr><th scope=col>...1</th><th scope=col>similarity</th><th scope=col>precision</th><th scope=col>recall</th><th scope=col>group</th></tr>\n",
       "\t<tr><th scope=col>&lt;dbl&gt;</th><th scope=col>&lt;dbl&gt;</th><th scope=col>&lt;dbl&gt;</th><th scope=col>&lt;dbl&gt;</th><th scope=col>&lt;chr&gt;</th></tr>\n",
       "</thead>\n",
       "<tbody>\n",
       "\t<tr><td>0</td><td>75.41667</td><td>83.66434</td><td>84.70770</td><td>results_baseline</td></tr>\n",
       "\t<tr><td>1</td><td>78.84804</td><td>81.37277</td><td>83.14360</td><td>results_baseline</td></tr>\n",
       "\t<tr><td>2</td><td>82.81863</td><td>87.04117</td><td>86.58854</td><td>results_baseline</td></tr>\n",
       "\t<tr><td>3</td><td>84.34699</td><td>86.74734</td><td>88.64668</td><td>results_baseline</td></tr>\n",
       "\t<tr><td>4</td><td>83.23529</td><td>85.69975</td><td>89.11635</td><td>results_baseline</td></tr>\n",
       "\t<tr><td>5</td><td>80.93137</td><td>84.53683</td><td>85.95052</td><td>results_baseline</td></tr>\n",
       "</tbody>\n",
       "</table>\n"
      ],
      "text/latex": [
       "A tibble: 6 × 5\n",
       "\\begin{tabular}{lllll}\n",
       " ...1 & similarity & precision & recall & group\\\\\n",
       " <dbl> & <dbl> & <dbl> & <dbl> & <chr>\\\\\n",
       "\\hline\n",
       "\t 0 & 75.41667 & 83.66434 & 84.70770 & results\\_baseline\\\\\n",
       "\t 1 & 78.84804 & 81.37277 & 83.14360 & results\\_baseline\\\\\n",
       "\t 2 & 82.81863 & 87.04117 & 86.58854 & results\\_baseline\\\\\n",
       "\t 3 & 84.34699 & 86.74734 & 88.64668 & results\\_baseline\\\\\n",
       "\t 4 & 83.23529 & 85.69975 & 89.11635 & results\\_baseline\\\\\n",
       "\t 5 & 80.93137 & 84.53683 & 85.95052 & results\\_baseline\\\\\n",
       "\\end{tabular}\n"
      ],
      "text/markdown": [
       "\n",
       "A tibble: 6 × 5\n",
       "\n",
       "| ...1 &lt;dbl&gt; | similarity &lt;dbl&gt; | precision &lt;dbl&gt; | recall &lt;dbl&gt; | group &lt;chr&gt; |\n",
       "|---|---|---|---|---|\n",
       "| 0 | 75.41667 | 83.66434 | 84.70770 | results_baseline |\n",
       "| 1 | 78.84804 | 81.37277 | 83.14360 | results_baseline |\n",
       "| 2 | 82.81863 | 87.04117 | 86.58854 | results_baseline |\n",
       "| 3 | 84.34699 | 86.74734 | 88.64668 | results_baseline |\n",
       "| 4 | 83.23529 | 85.69975 | 89.11635 | results_baseline |\n",
       "| 5 | 80.93137 | 84.53683 | 85.95052 | results_baseline |\n",
       "\n"
      ],
      "text/plain": [
       "  ...1 similarity precision recall   group           \n",
       "1 0    75.41667   83.66434  84.70770 results_baseline\n",
       "2 1    78.84804   81.37277  83.14360 results_baseline\n",
       "3 2    82.81863   87.04117  86.58854 results_baseline\n",
       "4 3    84.34699   86.74734  88.64668 results_baseline\n",
       "5 4    83.23529   85.69975  89.11635 results_baseline\n",
       "6 5    80.93137   84.53683  85.95052 results_baseline"
      ]
     },
     "metadata": {},
     "output_type": "display_data"
    }
   ],
   "source": [
    "head(data)"
   ]
  },
  {
   "cell_type": "code",
   "execution_count": 4,
   "id": "4d15a267-078b-434d-9129-a267e1079b40",
   "metadata": {},
   "outputs": [],
   "source": [
    "# Select systems for statistical analysis an normality testing\n",
    "baseline = data[which(data$group == 'results_baseline'),]\n",
    "prep = data[which(data$group == 'results_prep'),]\n",
    "ss2 = data[which(data$group == 'results_ss2'),]"
   ]
  },
  {
   "cell_type": "code",
   "execution_count": 5,
   "id": "71889ce0-c74b-47f7-8f8e-188755fd8a3d",
   "metadata": {},
   "outputs": [],
   "source": [
    "# Select systems for statistical testing\n",
    "data_to_test = data[which(data$group == 'results_baseline' |\n",
    "                          data$group == 'results_prep' |\n",
    "                          data$group == 'results_ss2'),]"
   ]
  },
  {
   "cell_type": "code",
   "execution_count": 6,
   "id": "832709fd-2b43-4a1f-8fd9-f476ad917347",
   "metadata": {},
   "outputs": [
    {
     "data": {
      "text/plain": [
       "\n",
       "\tBartlett test of homogeneity of variances\n",
       "\n",
       "data:  data_to_test$similarity and data_to_test$group\n",
       "Bartlett's K-squared = 2.3543, df = 2, p-value = 0.3082\n"
      ]
     },
     "metadata": {},
     "output_type": "display_data"
    }
   ],
   "source": [
    "# Check homogeneity of variance\n",
    "bartlett.test(data_to_test$similarity, data_to_test$group)"
   ]
  },
  {
   "cell_type": "code",
   "execution_count": 7,
   "id": "cfc60b05-647d-4534-b7b8-3c67157843e4",
   "metadata": {},
   "outputs": [
    {
     "data": {
      "text/plain": [
       "\n",
       "\tShapiro-Wilk normality test\n",
       "\n",
       "data:  baseline$similarity\n",
       "W = 0.97995, p-value = 0.8242\n"
      ]
     },
     "metadata": {},
     "output_type": "display_data"
    }
   ],
   "source": [
    "# Check normality of the distribution; baseline\n",
    "shapiro.test(baseline$similarity)"
   ]
  },
  {
   "cell_type": "code",
   "execution_count": 8,
   "id": "bc843bc1-373e-49fd-b197-770299f1e852",
   "metadata": {},
   "outputs": [
    {
     "data": {
      "text/plain": [
       "\n",
       "\tShapiro-Wilk normality test\n",
       "\n",
       "data:  prep$similarity\n",
       "W = 0.95891, p-value = 0.2904\n"
      ]
     },
     "metadata": {},
     "output_type": "display_data"
    }
   ],
   "source": [
    "# Check normality of the distribution; prep\n",
    "shapiro.test(prep$similarity)"
   ]
  },
  {
   "cell_type": "code",
   "execution_count": 9,
   "id": "fc18d7d8-9b91-4296-825b-87bfc1492b4c",
   "metadata": {},
   "outputs": [
    {
     "data": {
      "text/plain": [
       "\n",
       "\tShapiro-Wilk normality test\n",
       "\n",
       "data:  ss2$similarity\n",
       "W = 0.96064, p-value = 0.3216\n"
      ]
     },
     "metadata": {},
     "output_type": "display_data"
    }
   ],
   "source": [
    "# Check normality of the distribution; ss2\n",
    "shapiro.test(ss2$similarity)"
   ]
  },
  {
   "cell_type": "code",
   "execution_count": 10,
   "id": "d608e650-1abc-4caf-9ec5-b7972c2c2dd4",
   "metadata": {},
   "outputs": [],
   "source": [
    "anova_similarity = aov(data_to_test$similarity ~ data_to_test$group)"
   ]
  },
  {
   "cell_type": "code",
   "execution_count": 11,
   "id": "cb7bf805-d248-404c-8a6e-a879b547cccc",
   "metadata": {},
   "outputs": [
    {
     "data": {
      "text/plain": [
       "                   Df Sum Sq Mean Sq F value   Pr(>F)    \n",
       "data_to_test$group  2  138.5   69.26   9.207 0.000236 ***\n",
       "Residuals          87  654.5    7.52                     \n",
       "---\n",
       "Signif. codes:  0 '***' 0.001 '**' 0.01 '*' 0.05 '.' 0.1 ' ' 1"
      ]
     },
     "metadata": {},
     "output_type": "display_data"
    }
   ],
   "source": [
    "summary(anova_similarity)"
   ]
  },
  {
   "cell_type": "code",
   "execution_count": 12,
   "id": "187ec417-78b0-4173-ba29-6d459107bf11",
   "metadata": {},
   "outputs": [
    {
     "data": {
      "text/plain": [
       "\n",
       "\tPairwise comparisons using t tests with pooled SD \n",
       "\n",
       "data:  data_to_test$similarity and data_to_test$group \n",
       "\n",
       "             results_baseline results_prep\n",
       "results_prep 0.05615          -           \n",
       "results_ss2  0.00014          0.05615     \n",
       "\n",
       "P value adjustment method: holm "
      ]
     },
     "metadata": {},
     "output_type": "display_data"
    }
   ],
   "source": [
    "pairwise.t.test(data_to_test$similarity, data_to_test$group)"
   ]
  },
  {
   "cell_type": "code",
   "execution_count": null,
   "id": "be8ee9e3-0cea-4d09-8b13-6b676200505d",
   "metadata": {},
   "outputs": [],
   "source": []
  },
  {
   "cell_type": "code",
   "execution_count": null,
   "id": "63fead91-4534-49a4-a2cf-2cf8c212b2de",
   "metadata": {},
   "outputs": [],
   "source": []
  }
 ],
 "metadata": {
  "kernelspec": {
   "display_name": "R",
   "language": "R",
   "name": "ir"
  },
  "language_info": {
   "codemirror_mode": "r",
   "file_extension": ".r",
   "mimetype": "text/x-r-source",
   "name": "R",
   "pygments_lexer": "r",
   "version": "4.2.0"
  }
 },
 "nbformat": 4,
 "nbformat_minor": 5
}
